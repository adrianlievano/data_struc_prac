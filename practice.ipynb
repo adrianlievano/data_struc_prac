{
 "cells": [
  {
   "cell_type": "code",
   "execution_count": null,
   "metadata": {},
   "outputs": [],
   "source": [
    "!apt-get install openjdk-8-jdk-headless -qq > /dev/null\n",
    "!wget -q https://www-us.apache.org/dist/spark/spark-2.4.1/spark-2.4.1-bin-hadoop2.7.tgz\n",
    "!tar xf spark-2.4.1-bin-hadoop2.7.tgz\n",
    "!pip install -q findspark"
   ]
  },
  {
   "cell_type": "code",
   "execution_count": 1,
   "metadata": {},
   "outputs": [],
   "source": [
    "import pyspark\n",
    "from pyspark.sql import SparkSession\n",
    "from pyspark.conf import SparkConf"
   ]
  },
  {
   "cell_type": "code",
   "execution_count": null,
   "metadata": {},
   "outputs": [],
   "source": [
    "from pyspark.sql import SparkSession\n",
    "\n",
    "spark = SparkSession \\\n",
    "    .builder \\\n",
    "    .appName(\"Python Spark SQL basic example\") \\\n",
    "    .config(\"spark.some.config.option\", \"some-value\") \\\n",
    "    .getOrCreate()"
   ]
  },
  {
   "cell_type": "code",
   "execution_count": null,
   "metadata": {},
   "outputs": [],
   "source": [
    "df_reviews = spark.read.csv('googleplaystore_user_reviews.csv',inferSchema=True, header =True)\n",
    "df_play = spark.read.csv('googleplaystore.csv',inferSchema=True, header =True)"
   ]
  },
  {
   "cell_type": "code",
   "execution_count": null,
   "metadata": {},
   "outputs": [],
   "source": [
    "data = spark.read.csv('googleplaystore.csv',inferSchema=True, header=True)\n"
   ]
  },
  {
   "cell_type": "code",
   "execution_count": null,
   "metadata": {},
   "outputs": [],
   "source": [
    "df_play.printSchema()"
   ]
  },
  {
   "cell_type": "code",
   "execution_count": null,
   "metadata": {},
   "outputs": [],
   "source": [
    "## Need to do some processing to make sense of this data\n",
    "\n",
    "spark.sql(\"select Category, AVG(Rating) from plays group by 1 order by 2\").show()\n",
    "\n"
   ]
  },
  {
   "cell_type": "code",
   "execution_count": null,
   "metadata": {},
   "outputs": [],
   "source": [
    "def size_clean(item):\n",
    "  if 'k' == item[-1].lower():\n",
    "    new_item = float(item[0:-2])*10*10*10\n",
    "  elif 'm' == item[-1].lower():\n",
    "    new_item = float(item[0:-2])*10*10*10*10*10*10\n",
    "  else:\n",
    "    try:\n",
    "      new_item = float(item[0:-2])\n",
    "    except:\n",
    "      new_item = 0\n",
    "  return new_item\n",
    "\n",
    "spark.udf.register(\"size_clean\", size_clean)\n",
    "\n",
    "def price_clean(item):\n",
    "  try:\n",
    "    new_price = float(item[1:])\n",
    "  except:\n",
    "    new_price = 0\n",
    "  return new_price\n",
    "\n",
    "spark.udf.register(\"price_clean\", price_clean)"
   ]
  },
  {
   "cell_type": "code",
   "execution_count": null,
   "metadata": {},
   "outputs": [],
   "source": [
    "sql = \"\"\"select App,\n",
    "          Category,\n",
    "          Reviews,\n",
    "          size_clean(Size),\n",
    "          Installs,\n",
    "          price_clean(Price) as Price,\n",
    "          `Content Rating`as Content_Rating,\n",
    "          cast(Rating as double) as Rating\n",
    "    from plays\n",
    "    where 1=1\n",
    "    and Category != \"1.9\"\n",
    "    and Rating is not null\n",
    "    and size_clean(Size) != 0\n",
    "    order by Price desc\n",
    "    \"\"\"\n",
    "\n",
    "spark.sql(sql).show()"
   ]
  },
  {
   "cell_type": "code",
   "execution_count": null,
   "metadata": {},
   "outputs": [],
   "source": []
  },
  {
   "cell_type": "code",
   "execution_count": null,
   "metadata": {},
   "outputs": [],
   "source": []
  },
  {
   "cell_type": "code",
   "execution_count": null,
   "metadata": {},
   "outputs": [],
   "source": []
  },
  {
   "cell_type": "code",
   "execution_count": null,
   "metadata": {},
   "outputs": [],
   "source": []
  }
 ],
 "metadata": {
  "kernelspec": {
   "display_name": "Python 3",
   "language": "python",
   "name": "python3"
  },
  "language_info": {
   "codemirror_mode": {
    "name": "ipython",
    "version": 3
   },
   "file_extension": ".py",
   "mimetype": "text/x-python",
   "name": "python",
   "nbconvert_exporter": "python",
   "pygments_lexer": "ipython3",
   "version": "3.5.5"
  }
 },
 "nbformat": 4,
 "nbformat_minor": 2
}
